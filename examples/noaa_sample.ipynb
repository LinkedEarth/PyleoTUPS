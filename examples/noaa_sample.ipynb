{
 "cells": [
  {
   "cell_type": "code",
   "execution_count": null,
   "id": "0",
   "metadata": {},
   "outputs": [],
   "source": [
    "from pyleotups import Dataset"
   ]
  },
  {
   "cell_type": "code",
   "execution_count": null,
   "id": "1",
   "metadata": {},
   "outputs": [],
   "source": [
    "dataset = Dataset()"
   ]
  },
  {
   "cell_type": "code",
   "execution_count": null,
   "id": "2",
   "metadata": {},
   "outputs": [],
   "source": [
    "dataset.search_studies()"
   ]
  },
  {
   "cell_type": "code",
   "execution_count": null,
   "id": "3",
   "metadata": {},
   "outputs": [],
   "source": [
    "dataset.search_studies(max_lat=5, min_lat=-5, max_lon=109,\n",
    "                       min_lon=125, limit=40)"
   ]
  },
  {
   "cell_type": "code",
   "execution_count": null,
   "id": "4",
   "metadata": {},
   "outputs": [],
   "source": [
    "help(Dataset.search_studies)"
   ]
  },
  {
   "cell_type": "code",
   "execution_count": null,
   "id": "5",
   "metadata": {},
   "outputs": [],
   "source": [
    "dataset.get_geo()"
   ]
  },
  {
   "cell_type": "code",
   "execution_count": null,
   "id": "6",
   "metadata": {},
   "outputs": [],
   "source": [
    "dataset.get_tables()"
   ]
  },
  {
   "cell_type": "code",
   "execution_count": null,
   "id": "7",
   "metadata": {},
   "outputs": [],
   "source": [
    "dataset.get_funding()"
   ]
  },
  {
   "cell_type": "code",
   "execution_count": null,
   "id": "8",
   "metadata": {},
   "outputs": [],
   "source": [
    "dataset.get_variables(dataTableIDs=[\"51863\"])"
   ]
  },
  {
   "cell_type": "code",
   "execution_count": null,
   "id": "9",
   "metadata": {},
   "outputs": [],
   "source": [
    "dfs = dataset.get_data([\"51863\"])\n",
    "\n",
    "for df in dfs:\n",
    "    display(df)\n",
    "    print(df.attrs)"
   ]
  },
  {
   "cell_type": "code",
   "execution_count": null,
   "id": "10",
   "metadata": {},
   "outputs": [],
   "source": [
    "from pyleotups import Dataset "
   ]
  },
  {
   "cell_type": "code",
   "execution_count": null,
   "id": "11",
   "metadata": {},
   "outputs": [],
   "source": [
    "ds1 = Dataset()"
   ]
  },
  {
   "cell_type": "code",
   "execution_count": null,
   "id": "12",
   "metadata": {},
   "outputs": [],
   "source": [
    "ds1.search_studies(noaa_id=6325)"
   ]
  },
  {
   "cell_type": "code",
   "execution_count": null,
   "id": "13",
   "metadata": {},
   "outputs": [],
   "source": [
    "ds1.get_tables()"
   ]
  },
  {
   "cell_type": "code",
   "execution_count": null,
   "id": "14",
   "metadata": {},
   "outputs": [],
   "source": [
    "df = ds1.get_data(\"38616\")"
   ]
  },
  {
   "cell_type": "code",
   "execution_count": null,
   "id": "15",
   "metadata": {},
   "outputs": [],
   "source": [
    "import requests\n",
    "def detect_parser_type(lines):\n",
    "            lines = [line.strip() for line in lines if line.strip()]\n",
    "            if all(line.startswith(\"#\") for line in lines[:5]):\n",
    "                return \"standard\"\n",
    "            for i in range(len(lines) - 4):\n",
    "                line_normalized = lines[i+1].lower()\n",
    "                if (\n",
    "                    ((\"world data center for paleoclimatology\" in line_normalized\n",
    "                    and \"noaa\" in lines[i+3].lower()) or \n",
    "                    (\"noaa\" in line_normalized\n",
    "                    and \"world data center for paleoclimatology\" in lines[i+3].lower()))\n",
    "                    and \"-\" in lines[i] and \"-\" in lines[i+4]\n",
    "                ):\n",
    "                    return \"nonstandard\"\n",
    "            return \"unparsable\"\n",
    "        \n",
    "try:\n",
    "    file_url = \"https://www.ncei.noaa.gov/pub/data/paleo/contributions_by_author/huang2004/nhtemp-huang2004.txt\"\n",
    "    response = requests.get(file_url)\n",
    "    response.raise_for_status()\n",
    "    lines = response.text.splitlines()\n",
    "    parser_type = detect_parser_type(lines)\n",
    "except Exception as e:\n",
    "    raise RuntimeError(f\"Failed to read file from '{file_url}': {e}\")"
   ]
  },
  {
   "cell_type": "code",
   "execution_count": null,
   "id": "16",
   "metadata": {},
   "outputs": [],
   "source": [
    "parser_type"
   ]
  },
  {
   "cell_type": "code",
   "execution_count": null,
   "id": "17",
   "metadata": {},
   "outputs": [],
   "source": [
    "ds2 = Dataset()"
   ]
  },
  {
   "cell_type": "code",
   "execution_count": null,
   "id": "18",
   "metadata": {},
   "outputs": [],
   "source": [
    "ds2.search_studies(noaa_id=\"18315\")"
   ]
  },
  {
   "cell_type": "code",
   "execution_count": null,
   "id": "19",
   "metadata": {},
   "outputs": [],
   "source": [
    "ds2.get_geo()"
   ]
  },
  {
   "cell_type": "code",
   "execution_count": null,
   "id": "20",
   "metadata": {},
   "outputs": [],
   "source": [
    "ds2.get_publications(save=True)"
   ]
  },
  {
   "cell_type": "code",
   "execution_count": null,
   "id": "21",
   "metadata": {},
   "outputs": [],
   "source": [
    "ds2.get_publications(verbose=True)"
   ]
  },
  {
   "cell_type": "code",
   "execution_count": null,
   "id": "22",
   "metadata": {},
   "outputs": [],
   "source": [
    "ds2.get_funding()"
   ]
  },
  {
   "cell_type": "code",
   "execution_count": null,
   "id": "23",
   "metadata": {},
   "outputs": [],
   "source": [
    "ds2.get_tables()"
   ]
  },
  {
   "cell_type": "code",
   "execution_count": null,
   "id": "24",
   "metadata": {},
   "outputs": [],
   "source": [
    "ds2.get_variables(\"28674\")"
   ]
  },
  {
   "cell_type": "code",
   "execution_count": null,
   "id": "25",
   "metadata": {},
   "outputs": [],
   "source": [
    "ds2.get_data(\"28674\")"
   ]
  },
  {
   "cell_type": "code",
   "execution_count": null,
   "id": "26",
   "metadata": {},
   "outputs": [],
   "source": [
    "ds3 = Dataset()"
   ]
  },
  {
   "cell_type": "code",
   "execution_count": null,
   "id": "27",
   "metadata": {},
   "outputs": [],
   "source": [
    "ds3.search_studies(noaa_id=\"6212\")"
   ]
  },
  {
   "cell_type": "code",
   "execution_count": null,
   "id": "28",
   "metadata": {},
   "outputs": [],
   "source": [
    "ds3.get_tables()"
   ]
  },
  {
   "cell_type": "code",
   "execution_count": null,
   "id": "29",
   "metadata": {},
   "outputs": [],
   "source": [
    "ds3.get_data(\"9539\")"
   ]
  },
  {
   "cell_type": "markdown",
   "id": "30",
   "metadata": {},
   "source": [
    "### Issues with get_variables\n",
    "Shall the variable from file parser be included or from the json response?\n",
    "\n",
    "<br><br>\n",
    "\n",
    "```json\n",
    "dataFile\": [\n",
    "    {\n",
    "    \"fileUrl\": \"https://www.ncei.noaa.gov/pub/data/paleo/speleothem/southamerica/peru/cascayunga2009.txt\",\n",
    "    \"urlDescription\": \"Speleothem\",\n",
    "    \"linkText\": \"cascayunga2009.txt\",\n",
    "    \"variables\": [\n",
    "    {\n",
    "        \"cvDataType\": \"SPELEOTHEMS\",\n",
    "        \"cvWhat\": \"chemical composition>isotope>isotope ratio>delta 18O\",\n",
    "        \"cvMaterial\": \"geological material>identified mineral>carbonate>calcium carbonate\",\n",
    "        \"cvError\": null,\n",
    "        \"cvUnit\": \"concentration unit>parts per notation unit>parts per thousand>per mil>per mil PDB\",\n",
    "        \"cvSeasonality\": null,\n",
    "        \"cvDetail\": \"raw\",\n",
    "        \"cvMethod\": \"laboratory method>spectroscopy>mass spectrometry>isotope ratio mass spectrometry\",\n",
    "        \"cvAdditionalInfo\": \"core CAS-D\",\n",
    "        \"cvFormat\": \"Numeric\",\n",
    "        \"cvShortName\": null\n",
    "    },{\n",
    "        ...\n",
    "    }]}\n",
    "```\n",
    "<br><br>\n",
    "- {cvDataType, cvWhat, cvMaterial....} is present for all files (latest NOAA templated as well as old formatted files). \n",
    "<br><br>\n",
    "```\n",
    "## Site\tsample identification,,,,,paleoceanography,,,C,Site identification\n",
    "## Sample_Depth\tdepth,,,meter,,paleoceanography,,,N,Spliced  core composite depth below sea floor (CCSF-D)\n",
    "## Age\tage,,,calendar kiloyear before present,,paleoceanography,,,N,\n",
    "## Comments\tnotes,,,,,paleoceanography,,,C,Age model notes; LR04 (Lisiecki and Raymo 2005)\n",
    "```\n",
    "- Present only for the templated files. "
   ]
  },
  {
   "cell_type": "markdown",
   "id": "31",
   "metadata": {},
   "source": [
    "#### Example of repetitive keys.\n",
    "\n",
    "Json has 5 variables, 3 having same base keys `age`! "
   ]
  },
  {
   "cell_type": "code",
   "execution_count": null,
   "id": "32",
   "metadata": {},
   "outputs": [],
   "source": [
    "ds3.get_variables(\"9539\")"
   ]
  },
  {
   "cell_type": "code",
   "execution_count": null,
   "id": "33",
   "metadata": {},
   "outputs": [],
   "source": [
    "lines = '''Integrated Northern Hemisphere Surface Temperature Reconstruction\n",
    "---------------------------------------------------------------------\n",
    "                NOAA Paleoclimatology Program\n",
    "                               and\n",
    "         World Data Center for Paleoclimatology, Boulder\n",
    "---------------------------------------------------------------------\n",
    "NOTE: PLEASE CITE ORIGINAL REFERENCE WHEN USING THIS DATA!!!!!'''.splitlines()"
   ]
  },
  {
   "cell_type": "code",
   "execution_count": null,
   "id": "34",
   "metadata": {},
   "outputs": [],
   "source": [
    "def detect_parser_type(lines):\n",
    "            lines = [line.strip() for line in lines if line.strip()]\n",
    "            if all(line.startswith(\"#\") for line in lines[:5]):\n",
    "                return \"standard\"\n",
    "            for i in range(len(lines) - 4):\n",
    "                print(lines[i], i)\n",
    "                line_normalized = lines[i+1].lower()\n",
    "                if \"world data center for paleoclimatology\" in line_normalized:\n",
    "                    print(1)\n",
    "                    if \"noaa\" in lines[i+3].lower():\n",
    "                        print(2)\n",
    "                        if \"-\" in lines[i] and \"-\" in lines[i+4]:\n",
    "                            print(3)\n",
    "                            return \"nonstandard\"\n",
    "            return \"unparsable\""
   ]
  },
  {
   "cell_type": "code",
   "execution_count": null,
   "id": "35",
   "metadata": {},
   "outputs": [],
   "source": [
    "print(detect_parser_type(lines=lines))"
   ]
  }
 ],
 "metadata": {
  "kernelspec": {
   "display_name": "std-parser",
   "language": "python",
   "name": "python3"
  },
  "language_info": {
   "codemirror_mode": {
    "name": "ipython",
    "version": 3
   },
   "file_extension": ".py",
   "mimetype": "text/x-python",
   "name": "python",
   "nbconvert_exporter": "python",
   "pygments_lexer": "ipython3",
   "version": "3.12.3"
  }
 },
 "nbformat": 4,
 "nbformat_minor": 5
}
