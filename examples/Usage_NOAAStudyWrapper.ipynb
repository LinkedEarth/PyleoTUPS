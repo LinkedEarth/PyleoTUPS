{
 "cells": [
  {
   "cell_type": "code",
   "execution_count": null,
   "metadata": {},
   "outputs": [],
   "source": [
    "from pyleotups import Dataset\n",
    "\n",
    "import pyleotups as pt"
   ]
  },
  {
   "cell_type": "markdown",
   "metadata": {},
   "source": [
    "Initaite a NOAA Wrapper object"
   ]
  },
  {
   "cell_type": "code",
   "execution_count": null,
   "metadata": {},
   "outputs": [],
   "source": [
    "dataset = pt.Dataset()"
   ]
  },
  {
   "cell_type": "markdown",
   "metadata": {},
   "source": [
    "```dataset``` object acts as the manager, which will fetch studies based on given search parameters, manage and display appropraite metadata, and tabular data for studies obtained from search.\n",
    "\n",
    "Step 1: Populate the dataset.  \n",
    "- Use ```search_studies```, with paramters like NOAAStudyId, XMLId, data_type_id, keywords, search_text, investigators, max_lat, min_lat max_lon, min_lon, location, publication, search_text, earliest_year, latest_year, cv_whats. \n",
    "\n",
    "*Note:* \n",
    "- data_publisher, by default, for the current version of pytups is \"NOAA\".\n",
    "- Above parameter's are based on the endpoints by NCEI-NOAA and it's description can be found at https://www.ncei.noaa.gov/access/paleo-search/api"
   ]
  },
  {
   "cell_type": "code",
   "execution_count": null,
   "metadata": {},
   "outputs": [],
   "source": [
    "dataset.search_studies(noaa_id=18316)\n",
    "\n",
    "\"\"\"@TODO:\n",
    "- Validations for parameters like max_lat/max_long\"\"\""
   ]
  },
  {
   "cell_type": "markdown",
   "metadata": {},
   "source": [
    "To access the search results, call ```get_summary()``` over the dataset object"
   ]
  },
  {
   "cell_type": "code",
   "execution_count": null,
   "metadata": {},
   "outputs": [],
   "source": [
    "dataset.get_summary()"
   ]
  },
  {
   "cell_type": "markdown",
   "metadata": {},
   "source": [
    "For a detailed view of studies, use Functions ```get_publications()```, ```get_sites()```. Given functions retrieve the sites and publications associated with respective datasets"
   ]
  },
  {
   "cell_type": "code",
   "execution_count": null,
   "metadata": {},
   "outputs": [],
   "source": [
    "dataset.get_publications()"
   ]
  },
  {
   "cell_type": "markdown",
   "metadata": {},
   "source": [
    "View Sites results. !important to check studies and collect fileurls"
   ]
  },
  {
   "cell_type": "code",
   "execution_count": null,
   "metadata": {},
   "outputs": [],
   "source": [
    "dataset.get_sites()"
   ]
  },
  {
   "cell_type": "markdown",
   "metadata": {},
   "source": [
    "To access the actual dataset given in the above NOAA datasets, use ```get_data()``` method. \n",
    "\n",
    "The function takes ```dataTableId``` or a list of dataTableIds which one can get from the get_sites() method. \n",
    "\n",
    "Alternatively, one can directly call the get_data() method using the ```fileUrls```. Even these urls are present in the resultant dataframe of get_sites()\n",
    "\n",
    "*Note:* \n",
    "- The current pytups version can only open the \".txt\" files that follow the standard NOAA Template format. \n",
    "- To obtain complete information, it is recommended to pass only those fileUrls which are present in the search response. Even though, the package will parse the files, it wont be able to provide extra information regarding the dataframe.   "
   ]
  },
  {
   "cell_type": "code",
   "execution_count": null,
   "metadata": {},
   "outputs": [],
   "source": [
    "dfs = dataset.get_data(dataTableIDs=[\"28694\", \"28803\", \"28804\"])"
   ]
  },
  {
   "cell_type": "code",
   "execution_count": null,
   "metadata": {},
   "outputs": [],
   "source": [
    "for df in dfs:\n",
    "    display(df.head())\n",
    "    print(df.attrs)"
   ]
  },
  {
   "cell_type": "markdown",
   "metadata": {},
   "source": [
    "Example of direct use of parser over text file Url. "
   ]
  },
  {
   "cell_type": "code",
   "execution_count": null,
   "metadata": {},
   "outputs": [],
   "source": [
    "dfs_file_url = dataset.get_data(file_urls = [\"https://www.ncei.noaa.gov/pub/data/paleo/icecore/antarctica/wais2015co2flux.txt\",\n",
    "\"https://www.ncei.noaa.gov/pub/data/paleo/icecore/antarctica/buizert2021/buizert2021df-borehole-temp-noaa.txt\",\n",
    "# \"https://www.ncei.noaa.gov/pub/data/paleo/icecore/antarctica/dominion/pit_dr5_chem.txt\"\n",
    "])\n",
    "\n",
    "for df in dfs_file_url:\n",
    "    display(df.head())\n",
    "    print(df.attrs)\n"
   ]
  },
  {
   "cell_type": "markdown",
   "metadata": {},
   "source": [
    "Since Pytups only works with txt files, input in any secondary format will raise UnsupportedFileTypeError. "
   ]
  },
  {
   "cell_type": "code",
   "execution_count": null,
   "metadata": {},
   "outputs": [],
   "source": [
    "dataset.get_data(file_urls = [\"https://www.ncei.noaa.gov/pub/data/paleo/reconstructions/climate12k/temperature/version1.0.0/Temp12k_directory_LiPD_files/AdelaideTarn.Jara.2015.lpd\"])"
   ]
  },
  {
   "cell_type": "code",
   "execution_count": null,
   "metadata": {},
   "outputs": [],
   "source": [
    "df = dataset.search_studies(noaa_id=33213)"
   ]
  },
  {
   "cell_type": "code",
   "execution_count": null,
   "metadata": {},
   "outputs": [],
   "source": [
    "dataset.get_summary()"
   ]
  },
  {
   "cell_type": "markdown",
   "metadata": {},
   "source": [
    "#### FIX #11:\n",
    "\n",
    "If a dataframe is not saved into variable, the dataframe will by default be printed to the console"
   ]
  },
  {
   "cell_type": "code",
   "execution_count": null,
   "metadata": {},
   "outputs": [],
   "source": [
    "dataset.search_studies(noaa_id=33213)\n"
   ]
  },
  {
   "cell_type": "markdown",
   "metadata": {},
   "source": [
    "#### ISSUE 12:\n",
    "\n",
    "The general flow we folllow for retrieving data from a study is:\n",
    "\n",
    "search_studies(..params) > \"get_summary() -> df: 'SITEID' >> get_sites('SITEID') -> df: 'TABLEID'> get_tables('TABLEID')\n",
    "\n",
    "search_studies populates a Dataset Object with [SITE], [PUBLICATION], objects. SITE onject holds [PALEODATA]. The fileurl's reside within a PALEODATA object. Because of this hierarchy, metadata for a fileurl can be traced. Irrespective of StandardParser or NonStandard parser based file!\n",
    "\n",
    "However, when a user tried to access a data table (which can or cannot be Parsable or non-parsable) directly by get_data('fileurl'), there's no mapping which helps us access metadata. Hence, for direct fileurl-based table fetching, we can't deploy "
   ]
  },
  {
   "cell_type": "code",
   "execution_count": null,
   "metadata": {},
   "outputs": [],
   "source": [
    "dataset.search_studies(min_lat=68, max_lat=69, limit=50)"
   ]
  },
  {
   "cell_type": "code",
   "execution_count": null,
   "metadata": {},
   "outputs": [],
   "source": [
    "dataset.search_studies(min_lat=68, max_lat=69, limit=500)"
   ]
  },
  {
   "cell_type": "code",
   "execution_count": null,
   "metadata": {},
   "outputs": [],
   "source": [
    "dataset.search_studies(min_lat=68, max_lat=69, limit=1000)"
   ]
  },
  {
   "cell_type": "code",
   "execution_count": null,
   "metadata": {},
   "outputs": [],
   "source": [
    "dataset.search_studies(investigators=[\"Wahl, E.R.\", \"Vose, R.S.\"])"
   ]
  },
  {
   "cell_type": "code",
   "execution_count": null,
   "metadata": {},
   "outputs": [],
   "source": [
    "dataset.search_studies(investigators=[\"Wahl, E.R.\"])"
   ]
  },
  {
   "cell_type": "code",
   "execution_count": null,
   "metadata": {},
   "outputs": [],
   "source": [
    "dataset.search_studies(investigators=[\"E.R., Wahl\"])"
   ]
  },
  {
   "cell_type": "code",
   "execution_count": null,
   "metadata": {},
   "outputs": [],
   "source": [
    "dataset.search_studies(min_lat=-91, max_lat=100)"
   ]
  },
  {
   "cell_type": "code",
   "execution_count": null,
   "metadata": {},
   "outputs": [],
   "source": [
    "df = dataset.search_studies(noaa_id=\"18316\")"
   ]
  },
  {
   "cell_type": "code",
   "execution_count": null,
   "metadata": {},
   "outputs": [],
   "source": [
    "type(df)"
   ]
  },
  {
   "cell_type": "code",
   "execution_count": null,
   "metadata": {},
   "outputs": [],
   "source": [
    "dataset.search_studies(noaa_id=\"18316\")"
   ]
  },
  {
   "cell_type": "code",
   "execution_count": null,
   "metadata": {},
   "outputs": [],
   "source": [
    "dataset.studies"
   ]
  },
  {
   "cell_type": "code",
   "execution_count": null,
   "metadata": {},
   "outputs": [],
   "source": [
    "dataset.search_studies(noaa_id=\"text\")"
   ]
  }
 ],
 "metadata": {
  "kernelspec": {
   "display_name": ".venv",
   "language": "python",
   "name": "python3"
  },
  "language_info": {
   "codemirror_mode": {
    "name": "ipython",
    "version": 3
   },
   "file_extension": ".py",
   "mimetype": "text/x-python",
   "name": "python",
   "nbconvert_exporter": "python",
   "pygments_lexer": "ipython3",
   "version": "3.12.3"
  }
 },
 "nbformat": 4,
 "nbformat_minor": 2
}
