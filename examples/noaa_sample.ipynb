{
 "cells": [
  {
   "cell_type": "code",
   "execution_count": null,
   "id": "0",
   "metadata": {},
   "outputs": [],
   "source": [
    "from pyleotups import Dataset"
   ]
  },
  {
   "cell_type": "code",
   "execution_count": null,
   "id": "1",
   "metadata": {},
   "outputs": [],
   "source": [
    "dataset = Dataset()"
   ]
  },
  {
   "cell_type": "code",
   "execution_count": null,
   "id": "2",
   "metadata": {},
   "outputs": [],
   "source": [
    "dataset.search_studies(max_lat=5, min_lat=-5, max_lon=109,\n",
    "                       min_lon=125, limit=40)"
   ]
  },
  {
   "cell_type": "code",
   "execution_count": null,
   "id": "3",
   "metadata": {},
   "outputs": [],
   "source": [
    "dataset.search_studies()"
   ]
  },
  {
   "cell_type": "code",
   "execution_count": null,
   "id": "4",
   "metadata": {},
   "outputs": [],
   "source": [
    "help(Dataset.search_studies)"
   ]
  },
  {
   "cell_type": "code",
   "execution_count": null,
   "id": "5",
   "metadata": {},
   "outputs": [],
   "source": [
    "dataset.get_geo()"
   ]
  },
  {
   "cell_type": "code",
   "execution_count": null,
   "id": "6",
   "metadata": {},
   "outputs": [],
   "source": [
    "dataset.get_tables()"
   ]
  },
  {
   "cell_type": "code",
   "execution_count": null,
   "id": "7",
   "metadata": {},
   "outputs": [],
   "source": [
    "dataset.get_funding()"
   ]
  },
  {
   "cell_type": "code",
   "execution_count": null,
   "id": "8",
   "metadata": {},
   "outputs": [],
   "source": [
    "dataset.data_table_index"
   ]
  },
  {
   "cell_type": "code",
   "execution_count": null,
   "id": "9",
   "metadata": {},
   "outputs": [],
   "source": [
    "dataset.get_variables(dataTableIDs=[\"19791\", \"33108\"])"
   ]
  },
  {
   "cell_type": "code",
   "execution_count": null,
   "id": "10",
   "metadata": {},
   "outputs": [],
   "source": [
    "ds2 = Dataset()"
   ]
  },
  {
   "cell_type": "code",
   "execution_count": null,
   "id": "11",
   "metadata": {},
   "outputs": [],
   "source": [
    "ds2.search_studies(noaa_id=\"18315\")"
   ]
  },
  {
   "cell_type": "code",
   "execution_count": null,
   "id": "12",
   "metadata": {},
   "outputs": [],
   "source": [
    "ds2.get_geo()"
   ]
  },
  {
   "cell_type": "code",
   "execution_count": null,
   "id": "13",
   "metadata": {},
   "outputs": [],
   "source": [
    "ds2.get_publications(save=True)"
   ]
  },
  {
   "cell_type": "code",
   "execution_count": null,
   "id": "14",
   "metadata": {},
   "outputs": [],
   "source": [
    "ds2.get_publications(verbose=True)"
   ]
  },
  {
   "cell_type": "code",
   "execution_count": null,
   "id": "15",
   "metadata": {},
   "outputs": [],
   "source": [
    "ds2.get_funding()"
   ]
  },
  {
   "cell_type": "code",
   "execution_count": null,
   "id": "16",
   "metadata": {},
   "outputs": [],
   "source": [
    "ds2.get_tables()"
   ]
  },
  {
   "cell_type": "code",
   "execution_count": null,
   "id": "17",
   "metadata": {},
   "outputs": [],
   "source": [
    "ds2.get_variables(\"28674\")"
   ]
  },
  {
   "cell_type": "code",
   "execution_count": null,
   "id": "18",
   "metadata": {},
   "outputs": [],
   "source": [
    "ds2.get_data(\"28674\")"
   ]
  },
  {
   "cell_type": "code",
   "execution_count": null,
   "id": "19",
   "metadata": {},
   "outputs": [],
   "source": [
    "ds3 = Dataset()"
   ]
  },
  {
   "cell_type": "code",
   "execution_count": null,
   "id": "20",
   "metadata": {},
   "outputs": [],
   "source": [
    "ds3.search_studies(noaa_id=\"6212\")"
   ]
  },
  {
   "cell_type": "code",
   "execution_count": null,
   "id": "21",
   "metadata": {},
   "outputs": [],
   "source": [
    "ds3.get_tables()"
   ]
  },
  {
   "cell_type": "code",
   "execution_count": null,
   "id": "22",
   "metadata": {},
   "outputs": [],
   "source": [
    "ds3.get_data(\"9539\")"
   ]
  },
  {
   "cell_type": "markdown",
   "id": "23",
   "metadata": {},
   "source": [
    "### Issues with get_variables\n",
    "Shall the variable from file parser be included or from the json response?\n",
    "\n",
    "<br><br>\n",
    "\n",
    "```json\n",
    "dataFile\": [\n",
    "    {\n",
    "    \"fileUrl\": \"https://www.ncei.noaa.gov/pub/data/paleo/speleothem/southamerica/peru/cascayunga2009.txt\",\n",
    "    \"urlDescription\": \"Speleothem\",\n",
    "    \"linkText\": \"cascayunga2009.txt\",\n",
    "    \"variables\": [\n",
    "    {\n",
    "        \"cvDataType\": \"SPELEOTHEMS\",\n",
    "        \"cvWhat\": \"chemical composition>isotope>isotope ratio>delta 18O\",\n",
    "        \"cvMaterial\": \"geological material>identified mineral>carbonate>calcium carbonate\",\n",
    "        \"cvError\": null,\n",
    "        \"cvUnit\": \"concentration unit>parts per notation unit>parts per thousand>per mil>per mil PDB\",\n",
    "        \"cvSeasonality\": null,\n",
    "        \"cvDetail\": \"raw\",\n",
    "        \"cvMethod\": \"laboratory method>spectroscopy>mass spectrometry>isotope ratio mass spectrometry\",\n",
    "        \"cvAdditionalInfo\": \"core CAS-D\",\n",
    "        \"cvFormat\": \"Numeric\",\n",
    "        \"cvShortName\": null\n",
    "    },{\n",
    "        ...\n",
    "    }]}\n",
    "```\n",
    "<br><br>\n",
    "- {cvDataType, cvWhat, cvMaterial....} is present for all files (latest NOAA templated as well as old formatted files). \n",
    "<br><br>\n",
    "```\n",
    "## Site\tsample identification,,,,,paleoceanography,,,C,Site identification\n",
    "## Sample_Depth\tdepth,,,meter,,paleoceanography,,,N,Spliced  core composite depth below sea floor (CCSF-D)\n",
    "## Age\tage,,,calendar kiloyear before present,,paleoceanography,,,N,\n",
    "## Comments\tnotes,,,,,paleoceanography,,,C,Age model notes; LR04 (Lisiecki and Raymo 2005)\n",
    "```\n",
    "- Present only for the templated files. "
   ]
  },
  {
   "cell_type": "markdown",
   "id": "24",
   "metadata": {},
   "source": [
    "#### Example of repetitive keys.\n",
    "\n",
    "Json has 5 variables, only 3 variables are collected due to key overlap! "
   ]
  },
  {
   "cell_type": "code",
   "execution_count": null,
   "id": "25",
   "metadata": {},
   "outputs": [],
   "source": [
    "ds3.get_variables(\"9539\")"
   ]
  }
 ],
 "metadata": {
  "kernelspec": {
   "display_name": "std-parser",
   "language": "python",
   "name": "python3"
  },
  "language_info": {
   "codemirror_mode": {
    "name": "ipython",
    "version": 3
   },
   "file_extension": ".py",
   "mimetype": "text/x-python",
   "name": "python",
   "nbconvert_exporter": "python",
   "pygments_lexer": "ipython3",
   "version": "3.12.3"
  }
 },
 "nbformat": 4,
 "nbformat_minor": 5
}
