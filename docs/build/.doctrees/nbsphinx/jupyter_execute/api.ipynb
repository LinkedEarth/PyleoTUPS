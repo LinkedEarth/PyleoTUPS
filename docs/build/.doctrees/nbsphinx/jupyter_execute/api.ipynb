{
 "cells": [
  {
   "cell_type": "code",
   "execution_count": null,
   "id": "0",
   "metadata": {},
   "outputs": [],
   "source": [
    "from pyleotups import Dataset\n",
    "ds=Dataset()\n",
    "df = ds.search_studies(noaa_id=33213)\n",
    "dfs = ds.get_data(dataTableIDs=\"45859\")\n",
    "dfs[0].head()"
   ]
  },
  {
   "cell_type": "code",
   "execution_count": null,
   "id": "1",
   "metadata": {},
   "outputs": [],
   "source": [
    "from pyleotups import Dataset\n",
    "ds=Dataset()\n",
    "dsf = ds.search_studies(noaa_id=33213)\n",
    "df = ds.get_funding()\n",
    "df.head()"
   ]
  },
  {
   "cell_type": "code",
   "execution_count": null,
   "id": "2",
   "metadata": {},
   "outputs": [],
   "source": [
    "from pyleotups import Dataset\n",
    "ds=Dataset()\n",
    "dsf = ds.search_studies(noaa_id=33213)\n",
    "df = ds.get_geo()\n",
    "df.head()"
   ]
  },
  {
   "cell_type": "code",
   "execution_count": null,
   "id": "3",
   "metadata": {},
   "outputs": [],
   "source": [
    "from pyleotups import Dataset\n",
    "ds=Dataset()\n",
    "dsf = ds.search_studies(noaa_id=33213)\n",
    "bib, df = ds.get_publications()\n",
    "df.head()"
   ]
  },
  {
   "cell_type": "code",
   "execution_count": null,
   "id": "4",
   "metadata": {},
   "outputs": [],
   "source": [
    "from pyleotups import Dataset\n",
    "ds=Dataset()\n",
    "df = ds.search_studies(noaa_id=33213)\n",
    "df.head()"
   ]
  },
  {
   "cell_type": "code",
   "execution_count": null,
   "id": "5",
   "metadata": {},
   "outputs": [],
   "source": [
    "from pyleotups import Dataset\n",
    "ds=Dataset()\n",
    "dsf = ds.search_studies(noaa_id=33213)\n",
    "df = ds.get_tables()\n",
    "df.head()"
   ]
  },
  {
   "cell_type": "code",
   "execution_count": null,
   "id": "6",
   "metadata": {},
   "outputs": [],
   "source": [
    "from pyleotups import Dataset\n",
    "ds=Dataset()\n",
    "dsf = ds.search_studies(noaa_id=33213)\n",
    "df_var = ds.get_variables(dataTableIDs=\"45859\")\n",
    "df_var.head()"
   ]
  },
  {
   "cell_type": "code",
   "execution_count": null,
   "id": "7",
   "metadata": {},
   "outputs": [],
   "source": [
    "import pyleotups as pt\n",
    "ds = pt.Dataset()\n",
    "df_noaa = ds.search_studies(noaa_id=13156)\n",
    "df_xml = ds.search_studies(xml_id=1840)\n",
    "df_noaa.head()\n",
    "df_xml.head()"
   ]
  },
  {
   "cell_type": "code",
   "execution_count": null,
   "id": "8",
   "metadata": {},
   "outputs": [],
   "source": [
    "# Single phrase\n",
    "df_singlephrase = ds.search_studies(search_text=\"younger dryas\", limit=20)\n",
    "df_singlephrase.head()"
   ]
  },
  {
   "cell_type": "code",
   "execution_count": null,
   "id": "9",
   "metadata": {},
   "outputs": [],
   "source": [
    "# Logical operator (AND)\n",
    "df_logop = ds.search_studies(search_text=\"loess AND stratigraphy\", limit=20)\n",
    "df_logop.head()"
   ]
  },
  {
   "cell_type": "code",
   "execution_count": null,
   "id": "10",
   "metadata": {},
   "outputs": [],
   "source": [
    "# Wildcards: '_' (single char), '%' (multi-char)\n",
    "df_wc_1 = ds.search_studies(search_text=\"f_re\", limit=20)\n",
    "df_wc_2 = ds.search_studies(search_text=\"pol%\", limit=20)\n",
    "df_wc_1.head(), df_wc_2.head()"
   ]
  },
  {
   "cell_type": "code",
   "execution_count": null,
   "id": "11",
   "metadata": {},
   "outputs": [],
   "source": [
    "# Escaping special characters (use backslashes)\n",
    "df_specchar = ds.search_studies(search_text=r\"noaa\\-tree\\-19260\", limit=20)\n",
    "df_specchar.head()"
   ]
  },
  {
   "cell_type": "code",
   "execution_count": null,
   "id": "12",
   "metadata": {},
   "outputs": [],
   "source": [
    "# Multiple investigators (OR by default)\n",
    "df_multinv_default = ds.search_studies(investigators=[\"Wahl, E.R.\", \"Vose, R.S.\"])\n",
    "df_multinv_default.head()"
   ]
  },
  {
   "cell_type": "code",
   "execution_count": null,
   "id": "13",
   "metadata": {},
   "outputs": [],
   "source": [
    "# Multiple investigators (AND by default)\n",
    "df_multinv_and = ds.search_studies(investigators=[\"Wahl, E.R.\", \"Vose, R.S.\"], investigatorsAndOr = \"and\")\n",
    "df_multinv_and.head()"
   ]
  },
  {
   "cell_type": "code",
   "execution_count": null,
   "id": "14",
   "metadata": {},
   "outputs": [],
   "source": [
    "# Keywords: hierarchy with '>' and multiple via '|'\n",
    "df_keywords = ds.search_studies(keywords=\"earth science>paleoclimate>paleocean>biomarkers\")\n",
    "df_keywords.head()"
   ]
  },
  {
   "cell_type": "code",
   "execution_count": null,
   "id": "15",
   "metadata": {},
   "outputs": [],
   "source": [
    "# Location hierarchy\n",
    "df_loc = ds.search_studies(locations=\"Continent>Africa>Eastern Africa>Zambia\")\n",
    "df_loc.head()"
   ]
  },
  {
   "cell_type": "code",
   "execution_count": null,
   "id": "16",
   "metadata": {},
   "outputs": [],
   "source": [
    "# Species: four-letter codes (uppercase enforced)\n",
    "df_species = ds.search_studies(species=[\"ABAL\", \"PIPO\"])\n",
    "df_species.head()"
   ]
  },
  {
   "cell_type": "code",
   "execution_count": null,
   "id": "17",
   "metadata": {},
   "outputs": [],
   "source": [
    "# Data types: one or more IDs separated by '|'\n",
    "df_muldatatypes = ds.search_studies(data_type_id=\"4|18\")\n",
    "df_muldatatypes.head()"
   ]
  },
  {
   "cell_type": "code",
   "execution_count": null,
   "id": "18",
   "metadata": {},
   "outputs": [],
   "source": [
    "df_latlong = ds.search_studies(min_lat=68, max_lat=69, min_lon=30, max_lon=40)\n",
    "df_latlong.head()"
   ]
  },
  {
   "cell_type": "code",
   "execution_count": null,
   "id": "19",
   "metadata": {},
   "outputs": [],
   "source": [
    "df_elv = ds.search_studies(min_elevation=100, max_elevation=110)\n",
    "df_elv.head()"
   ]
  },
  {
   "cell_type": "code",
   "execution_count": null,
   "id": "20",
   "metadata": {},
   "outputs": [],
   "source": [
    "# Explicit BP with method\n",
    "df_timew = ds.search_studies(earliest_year=12000, time_format=\"BP\", time_method=\"overAny\")\n",
    "df_timew.head()"
   ]
  },
  {
   "cell_type": "code",
   "execution_count": null,
   "id": "21",
   "metadata": {},
   "outputs": [],
   "source": [
    "# No time_format/time_method → defaults to CE\n",
    "df_time_defualt = ds.search_studies(earliest_year=1500, latest_year=0)\n",
    "df_time_defualt.head()"
   ]
  },
  {
   "cell_type": "code",
   "execution_count": null,
   "id": "22",
   "metadata": {},
   "outputs": [],
   "source": [
    "df_recon = ds.search_studies(reconstruction=True)\n",
    "df_recon.head()"
   ]
  },
  {
   "cell_type": "code",
   "execution_count": null,
   "id": "23",
   "metadata": {},
   "outputs": [],
   "source": [
    "df_recent = ds.search_studies(recent=True, limit=25)\n",
    "df_recent.head()"
   ]
  }
 ],
 "metadata": {
  "kernelspec": {
   "display_name": "Python 3 (ipykernel)",
   "language": "python",
   "name": "python3"
  },
  "language_info": {
   "codemirror_mode": {
    "name": "ipython",
    "version": 3
   },
   "file_extension": ".py",
   "mimetype": "text/x-python",
   "name": "python",
   "nbconvert_exporter": "python",
   "pygments_lexer": "ipython3",
   "version": "3.12.3"
  }
 },
 "nbformat": 4,
 "nbformat_minor": 5
}
